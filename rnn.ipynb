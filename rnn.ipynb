{
 "cells": [
  {
   "cell_type": "code",
   "execution_count": 1,
   "metadata": {},
   "outputs": [],
   "source": [
    "import numpy as np\n",
    "from spiker import *\n",
    "import matplotlib.pyplot as plt\n",
    "from rnn import rnn"
   ]
  },
  {
   "cell_type": "code",
   "execution_count": 2,
   "metadata": {},
   "outputs": [
    {
     "name": "stdout",
     "output_type": "stream",
     "text": [
      "Sequence length is 200000\n"
     ]
    },
    {
     "data": {
      "text/plain": [
       "(2, 200000)"
      ]
     },
     "execution_count": 2,
     "metadata": {},
     "output_type": "execute_result"
    },
    {
     "data": {
      "image/png": "[encoded data removed]",
      "text/plain": [
       "<Figure size 432x288 with 1 Axes>"
      ]
     },
     "metadata": {
      "needs_background": "light"
     },
     "output_type": "display_data"
    }
   ],
   "source": [
    "# Generate simulation data\n",
    "def gen_data(nblocks,f1,f2, tstart=0, tstop=0.0001, Ts=1e-6,amp=1e-9):\n",
    "    \"\"\"\n",
    "    Generates a time series comprising nblocks of data\n",
    "    Each block is some combination of two sinusoids.\n",
    "    nblocks = number of blocks\n",
    "    tseries = Tseries object. Tseries is a datastructure \n",
    "        that makes it easy to deal with time-series data\n",
    "    amp = Scales the entire data block\n",
    "    \"\"\"\n",
    "    #np.random.seed(1)\n",
    "    tseries = gen_time(tstart,tstop,Ts) # obtain the time series input sample\n",
    "    time = tseries.time\n",
    "    ip = np.array([])\n",
    "    op = np.array([])\n",
    "    tblockend = int(len(time)/nblocks)\n",
    "    timeblock = time[:tblockend]\n",
    "    for index in range(nblocks):\n",
    "        if np.random.randint(2):\n",
    "            block = 2*np.sin(2*np.pi*timeblock*f2)+1*np.sin(2*np.pi*timeblock*f1)+2\n",
    "            ip = np.concatenate((ip,block))\n",
    "            op = np.concatenate((op,np.zeros_like(timeblock)))\n",
    "        else:\n",
    "            block = 1*np.sin(2*np.pi*timeblock*f2)+2*np.sin(2*np.pi*timeblock*f1)**2+1\n",
    "            ip = np.concatenate((ip,block))\n",
    "            op = np.concatenate((op,np.ones_like(timeblock)))\n",
    "    return amp*ip, amp*op, time\n",
    "# Some input\n",
    "ip1,_,tsteps = gen_data(nblocks=2, f1=4, f2=15, tstop=0.2)\n",
    "ip2,_,tsteps = gen_data(nblocks=1, f1=4, f2=15, tstop=0.2)\n",
    "\n",
    "inp1 = Tseries(ip1, tsteps)\n",
    "inp2 = Tseries(ip2, tsteps)\n",
    "inp1.plot(label = \"Input pattern\")\n",
    "inp2.plot(label = \"Input pattern\")\n",
    "ip = np.stack((ip1,ip2))\n",
    "print('Sequence length is {}'.format(ip.shape[1]))\n",
    "ip.shape# = (1,ip.shape[0])"
   ]
  },
  {
   "cell_type": "code",
   "execution_count": 3,
   "metadata": {},
   "outputs": [],
   "source": [
    "def set_all_weights_to_one(net):\n",
    "    for idx in range(len(net.weights)):\n",
    "        net.weights[idx] = np.ones_like(net.weights[idx])*1e-2"
   ]
  },
  {
   "cell_type": "code",
   "execution_count": 4,
   "metadata": {
    "scrolled": false
   },
   "outputs": [],
   "source": [
    "# Test case\n",
    "ip_dim = ip.shape[0]\n",
    "op_dim = 3\n",
    "res_dim = 51\n",
    "nrlayers = 4\n",
    "seq_len = ip.shape[1]\n",
    "\n",
    "net = rnn(nrlayers, ip_dim, res_dim, op_dim)\n",
    "# set_all_weights_to_one(net)\n",
    "ann_states = net.ann_forward(ip, mode='ann')\n",
    "snn_states = net.ann_forward(ip, mode='snn')"
   ]
  },
  {
   "cell_type": "raw",
   "metadata": {},
   "source": [
    "# Plotting and visualization\n",
    "print('Time constant = {0:.3f} sec'.format(1/net.tau))\n",
    "for idx in range(len(ann_states)): # layer idx\n",
    "    for jdx in range(ann_states[idx].shape[0]): # dim idx\n",
    "        plt.figure()\n",
    "        seq = Tseries(ann_states[idx][jdx,:], tsteps)\n",
    "        seq.plot(label = f'ANN - Layer {idx}', color='g')\n",
    "        seq = Tseries(snn_states[idx][jdx,:], tsteps)\n",
    "        seq.plot(label = f'SNN - Layer {idx}', color='k', linestyle='-.')\n",
    "#        plt.legend()\n",
    "t = 0\n",
    "for N in net.neurons:\n",
    "    t += np.sum(N.spike_count)\n",
    "print('Average spike rate = {0:.3f} KHz'. format(1e-3*t/(tsteps[-1]*op_dim+res_dim+ip_dim)))"
   ]
  },
  {
   "cell_type": "code",
   "execution_count": null,
   "metadata": {},
   "outputs": [
    {
     "name": "stdout",
     "output_type": "stream",
     "text": [
      "Pole frequency = 676.930 Hz\n"
     ]
    }
   ],
   "source": [
    "%matplotlib inline\n",
    "plt.rcParams['lines.linewidth'] = 1.2\n",
    "import matplotlib.patches as mpatches\n",
    "# Plotting and visualization\n",
    "print('Pole frequency = {0:.3f} Hz'.format(1/net.tau))\n",
    "for idx in range(len(ann_states)): # layer idx\n",
    "    dims = ann_states[idx].shape[0]\n",
    "    if dims >= 3:\n",
    "        cols = 3\n",
    "    else:\n",
    "        cols=dims\n",
    "    rows = int(np.ceil(dims/cols))\n",
    "    fig, axs = plt.subplots(rows,cols)\n",
    "    if idx == 0:\n",
    "        fig.suptitle(f'Input feed-forward layer', fontsize=12)\n",
    "    elif idx == len(ann_states)-1:\n",
    "        fig.suptitle(f'Output feed-forward layer', fontsize=12)\n",
    "    elif idx%2 == 1:\n",
    "        fig.suptitle(f'Recurrent layer {int(np.floor((idx+1)/2))}', fontsize=12)\n",
    "    else:\n",
    "        fig.suptitle(f'Feed-forward layer {int(np.floor((idx)/2))}', fontsize=12)\n",
    "    for jdx in range(ann_states[idx].shape[0]): # dim idx\n",
    "        ax = plt.subplot(rows,cols,jdx+1)\n",
    "        plt.plot(tsteps, ann_states[idx][jdx,:], color='r', linestyle='-.', label=f'ANN - Layer {idx}')\n",
    "        plt.plot(tsteps, snn_states[idx][jdx,:], color='g', alpha=0.7, label=f'SNN - Layer {idx}')\n",
    "        plt.axis('off')\n",
    "        plt.subplots_adjust(wspace=0, hspace=0)\n",
    "    patch1 = mpatches.Patch(color='g', label='ANN output')\n",
    "    patch2 = mpatches.Patch(color='r', label='SNN output')\n",
    "    fig.tight_layout() # Or equivalently,  \"plt.tight_layout()\"\n",
    "    fig.legend(handles=[patch1, patch2], loc='lower center', fancybox=True, shadow=True, fontsize=12, ncol=2)\n",
    "    plt.savefig(f'./img/ANN-RNN-Layer-{idx}.png', dpi=300)\n",
    "t = 0\n",
    "for N in net.neurons:\n",
    "    t += np.sum(N.spike_count)\n",
    "print('Average spike rate = {0:.3f} KHz'. format(1e-3*t/(tsteps[-1]*op_dim+res_dim+ip_dim)))"
   ]
  }
 ],
 "metadata": {
  "kernelspec": {
   "display_name": "Python 3",
   "language": "python",
   "name": "python3"
  },
  "language_info": {
   "codemirror_mode": {
    "name": "ipython",
    "version": 3
   },
   "file_extension": ".py",
   "mimetype": "text/x-python",
   "name": "python",
   "nbconvert_exporter": "python",
   "pygments_lexer": "ipython3",
   "version": "3.6.7"
  }
 },
 "nbformat": 4,
 "nbformat_minor": 2
}
