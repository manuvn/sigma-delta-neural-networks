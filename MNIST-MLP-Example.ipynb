{
 "cells": [
  {
   "cell_type": "code",
   "execution_count": 1,
   "metadata": {},
   "outputs": [
    {
     "name": "stdout",
     "output_type": "stream",
     "text": [
      "WARNING:tensorflow:From <ipython-input-1-df6abfba5896>:7: read_data_sets (from tensorflow.contrib.learn.python.learn.datasets.mnist) is deprecated and will be removed in a future version.\n",
      "Instructions for updating:\n",
      "Please use alternatives such as official/mnist/dataset.py from tensorflow/models.\n",
      "WARNING:tensorflow:From /home/manu/anaconda3/envs/keras/lib/python3.6/site-packages/tensorflow/contrib/learn/python/learn/datasets/mnist.py:260: maybe_download (from tensorflow.contrib.learn.python.learn.datasets.base) is deprecated and will be removed in a future version.\n",
      "Instructions for updating:\n",
      "Please write your own downloading logic.\n",
      "WARNING:tensorflow:From /home/manu/anaconda3/envs/keras/lib/python3.6/site-packages/tensorflow/contrib/learn/python/learn/datasets/base.py:252: _internal_retry.<locals>.wrap.<locals>.wrapped_fn (from tensorflow.contrib.learn.python.learn.datasets.base) is deprecated and will be removed in a future version.\n",
      "Instructions for updating:\n",
      "Please use urllib or similar directly.\n",
      "Successfully downloaded train-images-idx3-ubyte.gz 9912422 bytes.\n",
      "WARNING:tensorflow:From /home/manu/anaconda3/envs/keras/lib/python3.6/site-packages/tensorflow/contrib/learn/python/learn/datasets/mnist.py:262: extract_images (from tensorflow.contrib.learn.python.learn.datasets.mnist) is deprecated and will be removed in a future version.\n",
      "Instructions for updating:\n",
      "Please use tf.data to implement this functionality.\n",
      "Extracting /tmp/data/train-images-idx3-ubyte.gz\n",
      "Successfully downloaded train-labels-idx1-ubyte.gz 28881 bytes.\n",
      "WARNING:tensorflow:From /home/manu/anaconda3/envs/keras/lib/python3.6/site-packages/tensorflow/contrib/learn/python/learn/datasets/mnist.py:267: extract_labels (from tensorflow.contrib.learn.python.learn.datasets.mnist) is deprecated and will be removed in a future version.\n",
      "Instructions for updating:\n",
      "Please use tf.data to implement this functionality.\n",
      "Extracting /tmp/data/train-labels-idx1-ubyte.gz\n",
      "WARNING:tensorflow:From /home/manu/anaconda3/envs/keras/lib/python3.6/site-packages/tensorflow/contrib/learn/python/learn/datasets/mnist.py:110: dense_to_one_hot (from tensorflow.contrib.learn.python.learn.datasets.mnist) is deprecated and will be removed in a future version.\n",
      "Instructions for updating:\n",
      "Please use tf.one_hot on tensors.\n",
      "Successfully downloaded t10k-images-idx3-ubyte.gz 1648877 bytes.\n",
      "Extracting /tmp/data/t10k-images-idx3-ubyte.gz\n",
      "Successfully downloaded t10k-labels-idx1-ubyte.gz 4542 bytes.\n",
      "Extracting /tmp/data/t10k-labels-idx1-ubyte.gz\n",
      "WARNING:tensorflow:From /home/manu/anaconda3/envs/keras/lib/python3.6/site-packages/tensorflow/contrib/learn/python/learn/datasets/mnist.py:290: DataSet.__init__ (from tensorflow.contrib.learn.python.learn.datasets.mnist) is deprecated and will be removed in a future version.\n",
      "Instructions for updating:\n",
      "Please use alternatives such as official/mnist/dataset.py from tensorflow/models.\n"
     ]
    }
   ],
   "source": [
    "import numpy as np\n",
    "import matplotlib.pyplot as plt\n",
    "from spiker import *\n",
    "import pickle\n",
    "import tensorflow as tf\n",
    "from tensorflow.examples.tutorials.mnist import input_data\n",
    "mnist = input_data.read_data_sets(\"/tmp/data/\", one_hot=True)\n",
    "\n",
    "# Tensorflow model\n",
    "Winl1, Wl1l2, Wl2out, Bl1, Bl2, Bout = pickle.load( open( \"weights.dat\", \"rb\" ) )"
   ]
  },
  {
   "cell_type": "code",
   "execution_count": 2,
   "metadata": {},
   "outputs": [],
   "source": [
    "def compute_layer(ip, N, W, B = 0):\n",
    "    #print(W.shape, ip.shape) \n",
    "    x = np.dot(W,ip) + np.dot(B,scale_factor)\n",
    "    return N.compute(x)"
   ]
  },
  {
   "cell_type": "code",
   "execution_count": 3,
   "metadata": {},
   "outputs": [],
   "source": [
    "# Simulation setting parameters\n",
    "Ts = 1e-6\n",
    "tstart = 0\n",
    "tstop = 0.02\n",
    "scale_factor = 1e-9\n",
    "tseries = gen_time(tstart,tstop,Ts)\n",
    "time = tseries.time"
   ]
  },
  {
   "cell_type": "code",
   "execution_count": 4,
   "metadata": {},
   "outputs": [],
   "source": [
    "# Spiking simulations\n",
    "nip,nnip,nnl1,nnl2,nnop = (784,784,1000,256,10)\n",
    "\n",
    "Neuronip = Neuron(nnip,Ts=Ts)\n",
    "Neuronl1 = Neuron(nnl1,Ts=Ts)\n",
    "Neuronl2 = Neuron(nnl2,Ts=Ts)\n",
    "Neuronop = Neuron(nnop,Ts=Ts)\n",
    "Y  = Vsyn(nnop,Ts=Ts)    # Readout to LPF neuron output\n",
    "\n",
    "Win = np.eye(nip)\n",
    "Winl1, Wl1l2, Wl2out, Bl1, Bl2, Bout = pickle.load( open( \"weights.dat\", \"rb\" ) )\n",
    "Winl1, Wl1l2, Wl2out, Bl1, Bl2, Bout = Winl1.T, Wl1l2.T, Wl2out.T, Bl1.T, Bl2.T, Bout.T\n",
    "Wop = np.eye(nnop)\n",
    "        \n",
    "count = nnop\n",
    "def run_test(test_vector, test_ans):\n",
    "    output = np.zeros((count,len(tseries.time)))\n",
    "    for index in range(len(tseries.time)):\n",
    "        ip = test_vector[:,index] * scale_factor\n",
    "        \n",
    "        ip_layer  = compute_layer(ip,Neuronip, Win)\n",
    "        l1_layer  = compute_layer(ip_layer,Neuronl1,Winl1,Bl1)\n",
    "        l2_layer  = compute_layer(l1_layer,Neuronl2,Wl1l2,Bl2)\n",
    "        out_layer = compute_layer(l2_layer,Neuronop,Wl2out,Bout)\n",
    "        Yop       = Y.compute(out_layer)\n",
    "      \n",
    "    output[:,index] = Y.states\n",
    "    correct_prediction = np.sum(np.argmax(output[:,-1]) == np.argmax(test_ans)) == 1\n",
    "    print(\"Correct\",np.argmax(output[:,-1]),\"Result\",np.argmax(test_ans))\n",
    "    return correct_prediction"
   ]
  },
  {
   "cell_type": "code",
   "execution_count": null,
   "metadata": {},
   "outputs": [
    {
     "name": "stdout",
     "output_type": "stream",
     "text": [
      "Correct 0 Result 6\n",
      "Correct 0 Result 3\n",
      "Correct 0 Result 9\n",
      "Correct 0 Result 9\n",
      "Correct 0 Result 2\n",
      "Correct 0 Result 1\n",
      "Correct 0 Result 7\n",
      "Correct 0 Result 2\n",
      "Correct 0 Result 9\n",
      "Correct 0 Result 8\n",
      "Correct 0 Result 6\n",
      "Correct 0 Result 7\n",
      "Correct 0 Result 8\n",
      "Correct 0 Result 7\n",
      "Correct 2 Result 1\n",
      "Correct 9 Result 8\n",
      "Correct 5 Result 5\n",
      "Correct 9 Result 9\n",
      "Correct 9 Result 5\n",
      "Correct 2 Result 9\n",
      "Correct 5 Result 3\n",
      "Correct 1 Result 2\n",
      "Correct 6 Result 2\n",
      "Correct 6 Result 9\n",
      "Correct 2 Result 5\n",
      "Correct 4 Result 6\n",
      "Correct 0 Result 1\n",
      "Pass count 2 / 27\r"
     ]
    }
   ],
   "source": [
    "numtests = 100\n",
    "correct = 0\n",
    "for sample in range(numtests):\n",
    "    test_ip,test_op = mnist.train.next_batch(1)\n",
    "    test_ip = test_ip > 0\n",
    "    test_ip.shape = (784,)\n",
    "    test_vector = np.repeat(test_ip[:, np.newaxis], len(time), axis=1)\n",
    "    correct = correct + run_test(test_vector,test_op)\n",
    "    print(\"Pass count\", correct,'/',sample+1, end='\\r')"
   ]
  },
  {
   "cell_type": "code",
   "execution_count": null,
   "metadata": {},
   "outputs": [],
   "source": []
  }
 ],
 "metadata": {
  "kernelspec": {
   "display_name": "Python 3",
   "language": "python",
   "name": "python3"
  },
  "language_info": {
   "codemirror_mode": {
    "name": "ipython",
    "version": 3
   },
   "file_extension": ".py",
   "mimetype": "text/x-python",
   "name": "python",
   "nbconvert_exporter": "python",
   "pygments_lexer": "ipython3",
   "version": "3.6.6"
  }
 },
 "nbformat": 4,
 "nbformat_minor": 2
}
