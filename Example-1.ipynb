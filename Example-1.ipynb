{
 "cells": [
  {
   "cell_type": "code",
   "execution_count": 1,
   "metadata": {},
   "outputs": [],
   "source": [
    "%matplotlib inline\n",
    "import re\n",
    "import importlib\n",
    "import numpy as np\n",
    "import matplotlib.pyplot as plt\n",
    "import networkx as nx\n",
    "from spiker import *\n",
    "#from IPython.display import clear_output, Image, display, HTML"
   ]
  },
  {
   "cell_type": "code",
   "execution_count": 2,
   "metadata": {},
   "outputs": [],
   "source": [
    "# Generate simulation data\n",
    "def gen_data(nblocks,f1,f2,tseries,amp=1e-9):\n",
    "    \"\"\"\n",
    "    Generates a time series comprising nblocks of data\n",
    "    Each block is some combination of two sinusoids.\n",
    "    nblocks = number of blocks\n",
    "    tseries = Tseries object. Tseries is a datastructure \n",
    "        that makes it easy to deal with time-series data\n",
    "    amp = Scales the entire data block\n",
    "    \"\"\"\n",
    "    time = tseries.time\n",
    "    Ts = tseries.Ts\n",
    "    ip = np.array([])\n",
    "    op = np.array([])\n",
    "    tblockend = int(len(time)/nblocks)\n",
    "    timeblock = time[:tblockend]\n",
    "    for index in range(nblocks):\n",
    "        if np.random.randint(2):\n",
    "            block = 2*np.sin(2*np.pi*timeblock*f2)+np.sin(2*np.pi*timeblock*f1)+2\n",
    "            ip = np.concatenate((ip,block))\n",
    "            op = np.concatenate((op,np.zeros_like(timeblock)))\n",
    "        else:\n",
    "            block = 0.3*np.sin(2*np.pi*timeblock*f2)+np.sin(2*np.pi*timeblock*f2)**2+1\n",
    "            ip = np.concatenate((ip,block))\n",
    "            op = np.concatenate((op,np.ones_like(timeblock)))\n",
    "    return amp*ip, amp*op"
   ]
  },
  {
   "cell_type": "code",
   "execution_count": 3,
   "metadata": {},
   "outputs": [],
   "source": [
    "# Transient simulation parameters for the spiking simulation\n",
    "Ts = 1e-6 # step time\n",
    "tstart = 0 # Simulation start time in seconds\n",
    "tstop = 2 # Simulation stop time in seconds\n",
    "tseries = gen_time(tstart,tstop,Ts) # obtain the time series input sample\n",
    "time = tseries.time # the series of time samples"
   ]
  },
  {
   "cell_type": "code",
   "execution_count": 4,
   "metadata": {},
   "outputs": [
    {
     "name": "stdout",
     "output_type": "stream",
     "text": [
      "Time constant is 0.0024620943832914352 seconds\n"
     ]
    }
   ],
   "source": [
    "# Neuron constants to setup the neuron model and reserovoir decay\n",
    "Cmem  = 2e-12 # Membrane cap\n",
    "Kappa = 0.7\n",
    "Temp  = 300 # temperature in kelvin\n",
    "Ut    = 1.38064852e-23 * Temp/1.60217662e-19 # kt/q\n",
    "Itau  = 30e-12 #50e-12\n",
    "Ith   = 30e-12 #5e-9\n",
    "Iin   = 50e-9\n",
    "gain  = Ith/Itau # DPI gain\n",
    "tau   = Cmem*Ut/(Kappa * Itau)\n",
    "print(f'Time constant is {tau} seconds')"
   ]
  },
  {
   "cell_type": "code",
   "execution_count": 5,
   "metadata": {},
   "outputs": [],
   "source": [
    "# Test data generation\n",
    "nblocks = 10\n",
    "f1 = 15\n",
    "f2 = 4\n",
    "amp = 10e-9\n",
    "test_ip, test_op = gen_data(nblocks,f1,f2,tseries,amp)\n",
    "\n",
    "ip = Tseries(test_ip,time,Ts)\n",
    "op = Tseries(test_op,time,Ts)\n",
    "\n",
    "test_ip = np.vstack((amp*np.ones_like(tseries.time),test_ip)) # adding bias"
   ]
  },
  {
   "cell_type": "code",
   "execution_count": 6,
   "metadata": {},
   "outputs": [
    {
     "data": {
      "text/plain": [
       "[<matplotlib.lines.Line2D at 0x7f4c880498d0>]"
      ]
     },
     "execution_count": 6,
     "metadata": {},
     "output_type": "execute_result"
    },
    {
     "data": {
      "image/png": "[encoded data removed]",
      "text/plain": [
       "<Figure size 432x288 with 1 Axes>"
      ]
     },
     "metadata": {},
     "output_type": "display_data"
    }
   ],
   "source": [
    "plt.plot(test_op)\n",
    "plt.plot(test_ip[1,:])"
   ]
  },
  {
   "cell_type": "code",
   "execution_count": 7,
   "metadata": {},
   "outputs": [],
   "source": [
    "# --------------------------------\n",
    "# Standard ESN using real elements\n",
    "# --------------------------------\n",
    "def realesn(inSize=1, \n",
    "            outSize=1, \n",
    "            resSize=20):\n",
    "\n",
    "    \"\"\"\n",
    "    inSize = input dimension\n",
    "    outSize = output dimension\n",
    "    resSize = size of the reservoir\n",
    "    \"\"\"\n",
    "    \n",
    "    # Generate input connectivity weights\n",
    "    Win = (np.random.rand(resSize,1+inSize)-0.5) * 1\n",
    "\n",
    "    # Recurrent connecivity weights\n",
    "    W = np.random.rand(resSize,resSize)-0.5\n",
    "    # compute the spectral radius\n",
    "    radius = np.max(np.abs(np.linalg.eigvals(W)))\n",
    "    # rescale to desired spectral radius\n",
    "    W = W * (1.0 / radius)\n",
    "\n",
    "    # Output weights\n",
    "    Wout = np.random.rand(outSize,1+inSize+resSize)-0.5\n",
    "\n",
    "    # Generate graph for visualization\n",
    "    G,W_full = create_graph(W,Win,Wout)\n",
    "    plt.tight_layout()\n",
    "    # plt.savefig('ESNgraph.pdf')\n",
    "    \n",
    "    nnodes,nip,nnip,nnres,nop = compute_nodes(Win,Wout,W)    \n",
    "    op = np.zeros((outSize,len(tseries.time)))\n",
    "    x = np.zeros((resSize,1))\n",
    "    states = np.zeros((resSize,len(tseries.time)))\n",
    "    res = np.zeros((outSize,1))\n",
    "    \n",
    "    ndecay = tau/Ts\n",
    "    d = -ndecay/np.log(np.exp(-1))\n",
    "    # the retention factor inside reservoir = exp(-nsamples_in_tau/a)\n",
    "    # chosen so that in time 10*tau, the value of exponent is almost 0\n",
    "    a = 1 - np.exp(-1/d)\n",
    "\n",
    "    for t in range(len(test_ip[0,:])):\n",
    "        u = test_ip[:,t]\n",
    "        u.shape = (len(u),1)\n",
    "        data_in = np.dot( Win, u)\n",
    "        data_in.shape = (resSize,1)\n",
    "        x = (1-a)*x + a*np.tanh(data_in + np.dot( W, x ))\n",
    "        x = np.maximum(x,0)\n",
    "        res = (1-a)*res + a*np.dot( Wout, np.vstack((u,x)))\n",
    "        res = np.maximum(res,0)\n",
    "        # Save state transient output\n",
    "        x.shape = (resSize,)\n",
    "        states[:,t] = x + 0\n",
    "        op[:,t] = res[:,0]\n",
    "        x.shape = (resSize,1)\n",
    "    return op, states, Win, W, Wout"
   ]
  },
  {
   "cell_type": "code",
   "execution_count": null,
   "metadata": {},
   "outputs": [
    {
     "name": "stdout",
     "output_type": "stream",
     "text": [
      "Total nodes # =  25\n",
      "Input nodes # =  2\n",
      "Input neuron # =  2\n",
      "Reservoir neuron # =  20\n",
      "Output neuron # =  1\n"
     ]
    }
   ],
   "source": [
    "inSize, outSize, resSize = 1, 1, 20\n",
    "op, res_states, Win, W, Wout = realesn(inSize, outSize, resSize)\n",
    "\n",
    "# we'll disregard the first few states:\n",
    "transient = 100\n",
    "# include the raw inputs:\n",
    "# extended_states = np.concatenate((res, test_ip),axis=0)\n",
    "# Solve for W_out:\n",
    "W_out = np.dot(test_op[transient:], np.linalg.pinv(res_states[:, transient:]))"
   ]
  },
  {
   "cell_type": "code",
   "execution_count": null,
   "metadata": {},
   "outputs": [],
   "source": [
    "# Compute the output after training\n",
    "resop = np.dot(W_out, res_states)\n",
    "if resop.ndim == 1:\n",
    "    resop.shape = (1,len(resop))\n",
    "for index in range(outSize):\n",
    "    result = Tseries(resop[index,:],tseries.time)\n",
    "    result.plot(label = \"ANN Output\"+str(index))\n",
    "plt.plot(tseries.time, test_op, label = 'Expected output')\n",
    "#plt.savefig(\"ANN-ESN.pdf\")"
   ]
  },
  {
   "cell_type": "code",
   "execution_count": null,
   "metadata": {},
   "outputs": [],
   "source": [
    "# Sigma Delta ESN - numpy\n",
    "# ---------------------------------\n",
    "def sdesn(Win, Wout, W):\n",
    "    \"\"\"\n",
    "    Runs transient spiking simulation of an Echo-state \n",
    "    network given a set of Win, Wout, and W\n",
    "    Win = Input connectivity matrix\n",
    "    Wout = Readout connectivity matrix\n",
    "    W = Recurrent connectivity matrix\n",
    "    \n",
    "    # Variables used in this function:\n",
    "    # X = input: dim = (nip + 1) x 1\n",
    "    # N = input neurons to convert X to spikes: dim = nip x 1\n",
    "    # R = reservoir neurons: dim = nres x nres\n",
    "    # Y = output neurons: dim = nop x 1\n",
    "    # Wab = weight matrix such that B = W.A\n",
    "    # Xip = input to the layer X\n",
    "    # Xop = output from layer X\n",
    "    \"\"\"\n",
    "    \n",
    "    nnodes,nip,nnip,nnres,nop = compute_nodes(Win,Wout,W)\n",
    "    X = test_ip\n",
    "    N = Neuron(nnip,\n",
    "             ipItau  = 50e-12,\n",
    "             ipIth   = 50e-12,\n",
    "             fbItau  = 10e-12,\n",
    "             fbIth   = 300e-12,\n",
    "             fbIin   = 40e-9,\n",
    "             eItau   = 10e-12,\n",
    "             eIth    = 50e-9,\n",
    "             Ts=Ts)\n",
    "    R = Neuron(nnres,\n",
    "             ipItau  = 50e-12,\n",
    "             ipIth   = 50e-12,\n",
    "             fbItau  = 10e-12,\n",
    "             fbIth   = 300e-12,\n",
    "             fbIin   = 40e-9,\n",
    "             eItau   = 10e-12,\n",
    "             eIth    = 50e-9,\n",
    "             Ts=Ts)\n",
    "    Y = Neuron(nop,\n",
    "             ipItau  = 50e-12,\n",
    "             ipIth   = 50e-12,\n",
    "             fbItau  = 10e-12,\n",
    "             fbIth   = 300e-12,\n",
    "             fbIin   = 40e-9,\n",
    "             eItau   = 10e-12,\n",
    "             eIth    = 50e-9,\n",
    "             Ts=Ts)\n",
    "    O = Vsyn(nop,\n",
    "             Itau  = 30e-12,\n",
    "             Ith   = 30e-12,\n",
    "             Ts=Ts)    # Readout to LPF neuron output\n",
    "\n",
    "    Wxn = np.eye(nip)\n",
    "    Wnr = Win\n",
    "    Wrr = W\n",
    "    Wry = Wout\n",
    "    Wyo = np.eye(nop)\n",
    "    \n",
    "    Rop = np.zeros(nnres)\n",
    "    \n",
    "    count = nop\n",
    "    esn = np.zeros((count,len(tseries.time)))\n",
    "    for index in range(len(tseries.time)):\n",
    "        ip = X[:,index]\n",
    "    \n",
    "        Nip = np.dot(Wxn,ip)\n",
    "        Nop = N.compute(Nip)\n",
    "        \n",
    "        Rip = np.dot(Wnr,Nop) + np.dot(Wrr,Rop)\n",
    "        Rop = R.compute(Rip)\n",
    "        \n",
    "        Yip = np.dot(Wry,np.hstack((ip,Rop)))\n",
    "        Yop = Y.compute(Yip)\n",
    "        \n",
    "        O.compute(Yop)\n",
    "        esn[:,index] = O.states\n",
    "    return esn,count"
   ]
  },
  {
   "cell_type": "code",
   "execution_count": null,
   "metadata": {},
   "outputs": [],
   "source": [
    "esn,count = sdesn(Win, Wout, W)"
   ]
  },
  {
   "cell_type": "code",
   "execution_count": null,
   "metadata": {},
   "outputs": [],
   "source": [
    "plt.plot(tseries.time, resop[0,:], label = 'Floating point ESN output')\n",
    "plt.plot(tseries.time, esn[0,:], label = 'SNN ESN Output', alpha=0.7)\n",
    "plt.ylabel('Amplitude')\n",
    "plt.xlabel('Time (in seconds)')\n",
    "plt.legend()\n",
    "#plt.savefig(\"ANN-SDNN.pdf\", dpi=300)"
   ]
  },
  {
   "cell_type": "code",
   "execution_count": null,
   "metadata": {},
   "outputs": [],
   "source": [
    "for index in range(count):\n",
    "    esnres = Tseries(esn[index,:],tseries.time)\n",
    "    esnres.plot(0, label = \"SNN Output\"+str(index))\n",
    "#plt.savefig(\"SDNN-ESN.pdf\")"
   ]
  },
  {
   "cell_type": "code",
   "execution_count": null,
   "metadata": {},
   "outputs": [],
   "source": []
  }
 ],
 "metadata": {
  "kernelspec": {
   "display_name": "Python 3",
   "language": "python",
   "name": "python3"
  },
  "language_info": {
   "codemirror_mode": {
    "name": "ipython",
    "version": 3
   },
   "file_extension": ".py",
   "mimetype": "text/x-python",
   "name": "python",
   "nbconvert_exporter": "python",
   "pygments_lexer": "ipython3",
   "version": "3.6.6"
  }
 },
 "nbformat": 4,
 "nbformat_minor": 2
}
