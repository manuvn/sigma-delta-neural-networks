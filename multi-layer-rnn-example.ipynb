{
 "cells": [
  {
   "cell_type": "code",
   "execution_count": 1,
   "metadata": {},
   "outputs": [],
   "source": [
    "import pickle\n",
    "import pandas as pd\n",
    "import numpy as np\n",
    "from spiker import *\n",
    "import matplotlib.pyplot as plt\n",
    "from rnn import rnn"
   ]
  },
  {
   "cell_type": "code",
   "execution_count": 2,
   "metadata": {
    "scrolled": false
   },
   "outputs": [],
   "source": [
    "# https://www.mathworks.com/help/ident/ref/goodnessoffit.html\n",
    "def goodness_of_fit(ann_states, snn_states):\n",
    "    nmse_layers = []\n",
    "    epsilon = 1e-14\n",
    "    layers = range(len(ann_states))\n",
    "    transient = 10000\n",
    "    for idx in layers: # layer idx\n",
    "        dims = ann_states[idx].shape[0]\n",
    "        nmse = []\n",
    "        for jdx in range(dims):\n",
    "            ref = ann_states[idx][jdx,transient:]\n",
    "            y = snn_states[idx][jdx,transient:]\n",
    "            diff = ref - y\n",
    "            num = np.sum(diff*diff)\n",
    "            ref_ch_mean = np.mean(ref)\n",
    "            ref_diff = ref - ref_ch_mean #+ epsilon\n",
    "            den = np.sum(ref_diff*ref_diff)\n",
    "            if (den < epsilon) | (num < epsilon):\n",
    "                if num < den:\n",
    "                    nmse += [1]\n",
    "            else:\n",
    "                nmse += [1 - (num/den)]\n",
    "        nmse_layer = np.mean(nmse)\n",
    "        print(f'MSE in layer {idx} is {nmse_layer:.3f}')\n",
    "        nmse_layers += [nmse_layer]\n",
    "    return nmse_layers\n",
    "# goodness_of_fit(ann_states, snn_states)"
   ]
  },
  {
   "cell_type": "code",
   "execution_count": 3,
   "metadata": {
    "scrolled": false
   },
   "outputs": [],
   "source": [
    "def plot_activations(net, ann_states, rnn_states, label=''):\n",
    "    plt.rcParams['lines.linewidth'] = 1.2\n",
    "    import matplotlib.patches as mpatches\n",
    "    # Plotting and visualization\n",
    "    print('Pole frequency = {0:.3f} Hz'.format(1/net.tau))\n",
    "    goodness = goodness_of_fit(ann_states, snn_states)\n",
    "    for idx in range(len(ann_states)): # layer idx\n",
    "        dims = ann_states[idx].shape[0]\n",
    "        if dims >= 3:\n",
    "            cols = 3\n",
    "        else:\n",
    "            cols=dims\n",
    "        rows = int(np.ceil(dims/cols))\n",
    "        fig, axs = plt.subplots(rows,cols)\n",
    "        for jdx in range(ann_states[idx].shape[0]): # dim idx\n",
    "            ax = plt.subplot(rows,cols,jdx+1)\n",
    "            plt.plot(tsteps, ann_states[idx][jdx,:], color='r', linestyle='-.', label=f'ANN - Layer {idx}')\n",
    "            plt.plot(tsteps, snn_states[idx][jdx,:], color='g', alpha=0.7, label=f'SNN - Layer {idx}')\n",
    "            plt.axis('off')\n",
    "            plt.subplots_adjust(wspace=0, hspace=0)\n",
    "            \n",
    "        label_ext = r' $c_{v_p} = $'+f'{mismatch}.'+f' NMSE = {goodness[idx]:.3f}.'\n",
    "            \n",
    "        if idx == 0:\n",
    "            fig.suptitle(f'Input dense layer.'+label_ext, fontsize=12)\n",
    "        elif idx == len(ann_states)-1:\n",
    "            fig.suptitle(f'Output dense layer.'+label_ext, fontsize=12)\n",
    "        elif idx%2 == 1:\n",
    "            fig.suptitle(f'Recurrent layer {int(np.floor((idx+1)/2))}.'+label_ext, fontsize=12)\n",
    "        else:\n",
    "            fig.suptitle(f'Dense layer {int(np.floor((idx)/2))}.'+label_ext, fontsize=12)\n",
    "        patch1 = mpatches.Patch(color='g', label='ANN output')\n",
    "        patch2 = mpatches.Patch(color='r', label='SNN output')\n",
    "        fig.tight_layout() # Or equivalently,  \"plt.tight_layout()\"\n",
    "        fig.legend(handles=[patch1, patch2], loc='lower center', fancybox=True, shadow=True, fontsize=12, ncol=2)\n",
    "        plt.savefig(f'./img/ANN-RNN-Layer-{idx}-{label}.png', dpi=300)\n",
    "    t = 0\n",
    "    for N in net.neurons:\n",
    "        t += np.sum(N.spike_count)\n",
    "    print('Average spike rate = {0:.3f} KHz'. format(1e-3*t/(tsteps[-1]*op_dim+res_dim+ip_dim)))"
   ]
  },
  {
   "cell_type": "code",
   "execution_count": 4,
   "metadata": {},
   "outputs": [
    {
     "name": "stdout",
     "output_type": "stream",
     "text": [
      "Sequence length is 200000\n"
     ]
    },
    {
     "data": {
      "text/plain": [
       "(2, 200000)"
      ]
     },
     "execution_count": 4,
     "metadata": {},
     "output_type": "execute_result"
    },
    {
     "data": {
      "image/png": "[encoded data removed]",
      "text/plain": [
       "<Figure size 432x288 with 1 Axes>"
      ]
     },
     "metadata": {
      "needs_background": "light"
     },
     "output_type": "display_data"
    }
   ],
   "source": [
    "# Generate simulation data\n",
    "def gen_data(nblocks,f1,f2, tstart=0, tstop=0.0001, Ts=1e-6,amp=1e-9):\n",
    "    \"\"\"\n",
    "    Generates a time series comprising nblocks of data\n",
    "    Each block is some combination of two sinusoids.\n",
    "    nblocks = number of blocks\n",
    "    tseries = Tseries object. Tseries is a datastructure \n",
    "        that makes it easy to deal with time-series data\n",
    "    amp = Scales the entire data block\n",
    "    \"\"\"\n",
    "    #np.random.seed(1)\n",
    "    tseries = gen_time(tstart,tstop,Ts) # obtain the time series input sample\n",
    "    time = tseries.time\n",
    "    ip = np.array([])\n",
    "    op = np.array([])\n",
    "    tblockend = int(len(time)/nblocks)\n",
    "    timeblock = time[:tblockend]\n",
    "    for index in range(nblocks):\n",
    "        if np.random.randint(2):\n",
    "            block = 2*np.sin(2*np.pi*timeblock*f2)+1*np.sin(2*np.pi*timeblock*f1)+2\n",
    "            ip = np.concatenate((ip,block))\n",
    "            op = np.concatenate((op,np.zeros_like(timeblock)))\n",
    "        else:\n",
    "            block = 1*np.sin(2*np.pi*timeblock*f2)+2*np.sin(2*np.pi*timeblock*f1)**2+1\n",
    "            ip = np.concatenate((ip,block))\n",
    "            op = np.concatenate((op,np.ones_like(timeblock)))\n",
    "    return amp*ip, amp*op, time\n",
    "# Some input\n",
    "ip1,_,tsteps = gen_data(nblocks=2, f1=4, f2=15, tstop=0.2)\n",
    "ip2,_,tsteps = gen_data(nblocks=1, f1=4, f2=15, tstop=0.2)\n",
    "\n",
    "inp1 = Tseries(ip1, tsteps)\n",
    "inp2 = Tseries(ip2, tsteps)\n",
    "inp1.plot(label = \"Input pattern\")\n",
    "inp2.plot(label = \"Input pattern\")\n",
    "ip = np.stack((ip1,ip2))\n",
    "print('Sequence length is {}'.format(ip.shape[1]))\n",
    "ip.shape# = (1,ip.shape[0])"
   ]
  },
  {
   "cell_type": "code",
   "execution_count": 5,
   "metadata": {},
   "outputs": [],
   "source": [
    "def run_rnns(ip, ip_dim, op_dim, res_dim, nrlayers, nparams):\n",
    "    net = rnn(nrlayers, ip_dim, res_dim, op_dim, nparams=nparams)\n",
    "    ann_states = net.rnn_forward(ip, mode='ann')\n",
    "    snn_states = net.rnn_forward(ip, mode='snn')\n",
    "    return ann_states, snn_states, net"
   ]
  },
  {
   "cell_type": "code",
   "execution_count": 6,
   "metadata": {},
   "outputs": [],
   "source": [
    "ip_dim = ip.shape[0]\n",
    "op_dim = 3\n",
    "res_dim = 51\n",
    "nrlayers = 4\n",
    "seq_len = ip.shape[1]\n",
    "nparams = {}\n",
    "nmse_avgs = {}\n",
    "nmse_stds = {}\n",
    "nruns = 100"
   ]
  },
  {
   "cell_type": "code",
   "execution_count": null,
   "metadata": {
    "scrolled": true
   },
   "outputs": [
    {
     "name": "stdout",
     "output_type": "stream",
     "text": [
      "=========================================================================================\n",
      "Running 100 tests with mismatch std = 0\n",
      "Test #1/100----------\n",
      "MSE in layer 0 is 1.000\n",
      "MSE in layer 1 is 0.998\n",
      "MSE in layer 2 is 0.993\n",
      "MSE in layer 3 is 0.967\n",
      "MSE in layer 4 is 0.967\n",
      "MSE in layer 5 is 0.955\n",
      "MSE in layer 6 is 0.951\n",
      "MSE in layer 7 is 0.945\n",
      "MSE in layer 8 is 0.927\n",
      "Test #2/100----------\n",
      "MSE in layer 0 is 1.000\n",
      "MSE in layer 1 is 0.855\n",
      "MSE in layer 2 is 0.797\n",
      "MSE in layer 3 is 0.837\n",
      "MSE in layer 4 is 0.733\n",
      "MSE in layer 5 is 0.764\n",
      "MSE in layer 6 is 0.730\n",
      "MSE in layer 7 is 0.735\n",
      "MSE in layer 8 is 0.714\n",
      "Test #3/100----------\n",
      "MSE in layer 0 is 1.000\n",
      "MSE in layer 1 is 1.000\n",
      "MSE in layer 2 is 1.000\n",
      "MSE in layer 3 is 1.000\n",
      "MSE in layer 4 is 1.000\n",
      "MSE in layer 5 is 0.988\n",
      "MSE in layer 6 is 0.969\n",
      "MSE in layer 7 is 0.976\n",
      "MSE in layer 8 is 0.953\n",
      "Test #4/100----------\n"
     ]
    }
   ],
   "source": [
    "# Test case to study effect of mismatch\n",
    "mismatch_list = [0, 0.2, 1, 1.5, 2]\n",
    "# mismatch_list = [0, 2]\n",
    "for mismatch in mismatch_list:\n",
    "    print('='*89)\n",
    "    print(f'Running {nruns} tests with mismatch std = {mismatch}')\n",
    "    nmse_runs = []\n",
    "    for _ in range(nruns):\n",
    "        print(f'Test #{_+1}/{nruns}'+'-'*10)\n",
    "        nparams['mismatch'] = mismatch\n",
    "        ann_states, snn_states,_ = run_rnns(ip, ip_dim, op_dim, res_dim, nrlayers, nparams)\n",
    "        nmse_runs += [goodness_of_fit(ann_states, snn_states)]\n",
    "    nmse_runs = np.array(nmse_runs)\n",
    "    nmse_avgs[r'$\\sigma$ '+f' = {mismatch}'] = np.mean(nmse_runs, axis=0)\n",
    "    nmse_stds[r'$\\sigma$ '+f' = {mismatch}']  = np.std(nmse_runs, axis=0)\n",
    "#     plt.semilogy(range(len(ann_states)), nmse_avgs[mismatch], label = f'Mismatch std = {mismatch}')\n",
    "nmse_avgs = pd.DataFrame.from_dict(nmse_avgs)\n",
    "nmse_stds = pd.DataFrame.from_dict(nmse_stds) \n",
    "results = (nmse_avgs, nmse_stds)\n",
    "with open(f'./img/mapping_mismatch_r{res_dim}.pickle', 'wb') as handle:\n",
    "    pickle.dump(results, handle, protocol=pickle.HIGHEST_PROTOCOL)"
   ]
  },
  {
   "cell_type": "code",
   "execution_count": null,
   "metadata": {},
   "outputs": [],
   "source": [
    "with open(f'./img/mapping_mismatch_r{res_dim}.pickle', 'rb') as handle:\n",
    "    nmse_avgs, nmse_stds = pickle.load(handle)"
   ]
  },
  {
   "cell_type": "code",
   "execution_count": null,
   "metadata": {},
   "outputs": [],
   "source": [
    "label = []\n",
    "for idx in range(2*nrlayers+1):\n",
    "    if idx == 0:\n",
    "        label += [f'Input dense layer']\n",
    "    elif idx == len(ann_states)-1:\n",
    "        label += [f'Output dense layer']\n",
    "    elif idx%2 == 1:\n",
    "        label += [f'Recurrent layer {int(np.floor((idx+1)/2))}']\n",
    "    else:\n",
    "        label += [f'Dense layer {int(np.floor((idx)/2))}']\n",
    "\n",
    "def dump_df(df, label):\n",
    "    layer_names = df['Layer'].values\n",
    "    indices = df.index.values.tolist()\n",
    "    df.T.columns = layer_names\n",
    "    df = df.set_index('Layer')\n",
    "    with open(f'./img/mismatch_sims_{label}.tex', 'w') as tf:\n",
    "         tf.write(df.to_latex(escape=False, float_format=lambda x: '%.1f' % x))\n",
    "    return df"
   ]
  },
  {
   "cell_type": "code",
   "execution_count": null,
   "metadata": {},
   "outputs": [],
   "source": [
    "nmse_stds['Layer'] = label\n",
    "nmse_avgs['Layer'] = label\n",
    "nmse_avgs.set_index('Layer')\n",
    "nmse_stds.set_index('Layer')\n",
    "avg_df = dump_df(nmse_avgs, \"avg\")\n",
    "std_df = dump_df(nmse_stds, \"std\")\n",
    "merged_df = pd.concat([avg_df.T, std_df.T], keys=['Mean', 'Std']).T\n",
    "merged_df ['Layer'] = label\n",
    "merged_df = dump_df(merged_df, f\"{res_dim}\")\n",
    "merged_df"
   ]
  },
  {
   "cell_type": "code",
   "execution_count": null,
   "metadata": {
    "scrolled": false
   },
   "outputs": [],
   "source": [
    "# Test case for plotting dynamics\n",
    "mismatch = 0\n",
    "nparams['mismatch'] = mismatch\n",
    "ann_states, snn_states, net = run_rnns(ip, ip_dim, op_dim, res_dim, nrlayers, nparams)\n",
    "plot_activations(net, ann_states, snn_states, label=f'mismatch std={mismatch}')"
   ]
  },
  {
   "cell_type": "code",
   "execution_count": null,
   "metadata": {
    "scrolled": false
   },
   "outputs": [],
   "source": [
    "# Test case for plotting dynamics\n",
    "mismatch = 1\n",
    "nparams['mismatch'] = mismatch\n",
    "ann_states, snn_states, net = run_rnns(ip, ip_dim, op_dim, res_dim, nrlayers, nparams)\n",
    "plot_activations(net, ann_states, snn_states, label=f'mismatch std={mismatch}')"
   ]
  },
  {
   "cell_type": "code",
   "execution_count": null,
   "metadata": {},
   "outputs": [],
   "source": []
  }
 ],
 "metadata": {
  "kernelspec": {
   "display_name": "Python 3",
   "language": "python",
   "name": "python3"
  },
  "language_info": {
   "codemirror_mode": {
    "name": "ipython",
    "version": 3
   },
   "file_extension": ".py",
   "mimetype": "text/x-python",
   "name": "python",
   "nbconvert_exporter": "python",
   "pygments_lexer": "ipython3",
   "version": "3.6.7"
  }
 },
 "nbformat": 4,
 "nbformat_minor": 2
}
