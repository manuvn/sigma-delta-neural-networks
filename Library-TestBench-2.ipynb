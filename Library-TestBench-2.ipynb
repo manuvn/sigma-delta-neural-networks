{
 "cells": [
  {
   "cell_type": "markdown",
   "metadata": {},
   "source": [
    "-------------------------------------\n",
    "\n",
    "Input to a neuron is a continuous signal.\n",
    "\n",
    "Input to virtual synapse is a continuous signal\n",
    "\n",
    "Input to a synapse is always spikes\n",
    "\n",
    "-------------------------------------\n",
    "Each time step\n",
    "VIRTUAL SYNAPSE - For continuous inputs.\n",
    "Read input\n",
    "Update state\n",
    "Update output matrix\n",
    "\n",
    "\n",
    "SYNAPSE - For spike inputs.\n",
    "check for spike\n",
    "update state\n",
    "Update output matrix\n",
    "\n",
    "\n",
    "NEURON\n",
    "Read input matrix\n",
    "Update state\n",
    "Spike condition\n",
    "Update state\n",
    "Update spike matrix\n"
   ]
  },
  {
   "cell_type": "code",
   "execution_count": 1,
   "metadata": {},
   "outputs": [
    {
     "ename": "ModuleNotFoundError",
     "evalue": "No module named 'tensorflow'",
     "output_type": "error",
     "traceback": [
      "\u001b[0;31m---------------------------------------------------------------------------\u001b[0m",
      "\u001b[0;31mModuleNotFoundError\u001b[0m                       Traceback (most recent call last)",
      "\u001b[0;32m<ipython-input-1-4a642cdb7661>\u001b[0m in \u001b[0;36m<module>\u001b[0;34m()\u001b[0m\n\u001b[1;32m      2\u001b[0m \u001b[0;32mimport\u001b[0m \u001b[0mnumpy\u001b[0m \u001b[0;32mas\u001b[0m \u001b[0mnp\u001b[0m\u001b[0;34m\u001b[0m\u001b[0m\n\u001b[1;32m      3\u001b[0m \u001b[0;32mimport\u001b[0m \u001b[0mmatplotlib\u001b[0m\u001b[0;34m.\u001b[0m\u001b[0mpyplot\u001b[0m \u001b[0;32mas\u001b[0m \u001b[0mplt\u001b[0m\u001b[0;34m\u001b[0m\u001b[0m\n\u001b[0;32m----> 4\u001b[0;31m \u001b[0;32mfrom\u001b[0m \u001b[0mspiker\u001b[0m \u001b[0;32mimport\u001b[0m \u001b[0;34m*\u001b[0m\u001b[0;34m\u001b[0m\u001b[0m\n\u001b[0m",
      "\u001b[0;32m~/Documents/PhD/projects/sigmadelta-dev/spiker/__init__.py\u001b[0m in \u001b[0;36m<module>\u001b[0;34m()\u001b[0m\n\u001b[1;32m      5\u001b[0m \u001b[0;32mfrom\u001b[0m \u001b[0;34m.\u001b[0m\u001b[0mVsyn\u001b[0m \u001b[0;32mimport\u001b[0m \u001b[0mVsyn\u001b[0m\u001b[0;34m\u001b[0m\u001b[0m\n\u001b[1;32m      6\u001b[0m \u001b[0;32mfrom\u001b[0m \u001b[0;34m.\u001b[0m\u001b[0mNeuron\u001b[0m \u001b[0;32mimport\u001b[0m \u001b[0mNeuron\u001b[0m\u001b[0;34m\u001b[0m\u001b[0m\n\u001b[0;32m----> 7\u001b[0;31m \u001b[0;32mfrom\u001b[0m \u001b[0;34m.\u001b[0m\u001b[0mtffuncs\u001b[0m \u001b[0;32mimport\u001b[0m \u001b[0mcast\u001b[0m\u001b[0;34m\u001b[0m\u001b[0m\n\u001b[0m\u001b[1;32m      8\u001b[0m \u001b[0;32mfrom\u001b[0m \u001b[0;34m.\u001b[0m\u001b[0mSyntf\u001b[0m \u001b[0;32mimport\u001b[0m \u001b[0mSyntf\u001b[0m\u001b[0;34m\u001b[0m\u001b[0m\n\u001b[1;32m      9\u001b[0m \u001b[0;32mfrom\u001b[0m \u001b[0;34m.\u001b[0m\u001b[0mNeurontf\u001b[0m \u001b[0;32mimport\u001b[0m \u001b[0mNeurontf\u001b[0m\u001b[0;34m\u001b[0m\u001b[0m\n",
      "\u001b[0;32m~/Documents/PhD/projects/sigmadelta-dev/spiker/tffuncs.py\u001b[0m in \u001b[0;36m<module>\u001b[0;34m()\u001b[0m\n\u001b[1;32m      1\u001b[0m \u001b[0;32mimport\u001b[0m \u001b[0mnumpy\u001b[0m \u001b[0;32mas\u001b[0m \u001b[0mnp\u001b[0m\u001b[0;34m\u001b[0m\u001b[0m\n\u001b[0;32m----> 2\u001b[0;31m \u001b[0;32mimport\u001b[0m \u001b[0mtensorflow\u001b[0m \u001b[0;32mas\u001b[0m \u001b[0mtf\u001b[0m\u001b[0;34m\u001b[0m\u001b[0m\n\u001b[0m\u001b[1;32m      3\u001b[0m \u001b[0;32mfrom\u001b[0m \u001b[0mIPython\u001b[0m\u001b[0;34m.\u001b[0m\u001b[0mdisplay\u001b[0m \u001b[0;32mimport\u001b[0m \u001b[0mclear_output\u001b[0m\u001b[0;34m,\u001b[0m \u001b[0mImage\u001b[0m\u001b[0;34m,\u001b[0m \u001b[0mdisplay\u001b[0m\u001b[0;34m,\u001b[0m \u001b[0mHTML\u001b[0m\u001b[0;34m\u001b[0m\u001b[0m\n\u001b[1;32m      4\u001b[0m \u001b[0;34m\u001b[0m\u001b[0m\n\u001b[1;32m      5\u001b[0m \u001b[0;32mdef\u001b[0m \u001b[0mcast\u001b[0m\u001b[0;34m(\u001b[0m\u001b[0mval\u001b[0m\u001b[0;34m)\u001b[0m\u001b[0;34m:\u001b[0m\u001b[0;34m\u001b[0m\u001b[0m\n",
      "\u001b[0;31mModuleNotFoundError\u001b[0m: No module named 'tensorflow'"
     ]
    }
   ],
   "source": [
    "% matplotlib inline\n",
    "import numpy as np\n",
    "import matplotlib.pyplot as plt\n",
    "from spiker import *"
   ]
  },
  {
   "cell_type": "code",
   "execution_count": null,
   "metadata": {
    "scrolled": false
   },
   "outputs": [],
   "source": [
    "# Test bench for Vsyn\n",
    "if (1):\n",
    "    Ts = 1e-6\n",
    "    tstart = 0\n",
    "    tstop = 0.1\n",
    "    tseries = gen_time(tstart,tstop,Ts)\n",
    "    \n",
    "    ip0  = gen_sine(tseries,600)\n",
    "    ip1  = gen_sine(tseries,20)\n",
    "    ipt = np.vstack((ip0.value,ip1.value))\n",
    "    test = np.zeros_like(ipt)\n",
    "    \n",
    "    v = Vsyn(2,Ts=Ts)\n",
    "    for index in range(len(tseries.time)):\n",
    "        ip = ipt[:,index]\n",
    "        test[:,index] = v.rd_upd(ip)\n",
    "    tx0 = Tseries(test[0,:],tseries.time,Ts)\n",
    "    tx1 = Tseries(test[1,:],tseries.time,Ts)\n",
    "    ip0.plot()\n",
    "    ip1.plot()\n",
    "    plt.figure()\n",
    "    tx0.plot()\n",
    "    tx1.plot()\n",
    "    v.print_props()"
   ]
  },
  {
   "cell_type": "code",
   "execution_count": null,
   "metadata": {},
   "outputs": [],
   "source": [
    "# TB for synapse\n",
    "if (1):\n",
    "    Ts = 1e-6\n",
    "    tstart = 0\n",
    "    tstop = 0.1\n",
    "    tseries = gen_time(tstart,tstop,Ts)\n",
    "    ipt  = gen_ptrain(tseries,f=10)\n",
    "    test = np.zeros_like(tseries.time)\n",
    "    ipt.set_time(0.)\n",
    "    s = Syn(1,Ts=Ts)\n",
    "    for index in range(len(tseries.time)):\n",
    "        ip = ipt.value[index]\n",
    "        test[index] = s.rd_upd(ip)\n",
    "    tx = Tseries(test,tseries.time,Ts)\n",
    "    ipt.plot()\n",
    "    plt.figure()\n",
    "    tx.plot()\n",
    "    v.print_props()"
   ]
  },
  {
   "cell_type": "code",
   "execution_count": null,
   "metadata": {},
   "outputs": [],
   "source": [
    "# Test bench for Neuron\n",
    "if (1):\n",
    "    Ts = 1e-6\n",
    "    tstart = 0\n",
    "    tstop = 0.1\n",
    "    tseries = gen_time(tstart,tstop,Ts)\n",
    "    ipt  = gen_sine(tseries,10)\n",
    "    test = np.zeros_like(tseries.time)#.astype(np.bool_)\n",
    "    test0 = np.zeros_like(tseries.time)#.astype(np.bool_)\n",
    "    test1 = np.zeros_like(tseries.time)#.astype(np.bool_)\n",
    "    ipt.set_time(0.)\n",
    "    n = Neuron(1,Ts=Ts)\n",
    "    for index in range(len(tseries.time)):\n",
    "        ip = ipt.value[index]\n",
    "        n.rd_upd(ip)\n",
    "        test[index]  = n.fbsyn.states\n",
    "        test0[index] = n.ipsyn.states\n",
    "        test1[index] = n.states\n",
    "    tx = Tseries(test,tseries.time,Ts)\n",
    "    tx0 = Tseries(test0,tseries.time,Ts)    \n",
    "    tx1 = Tseries(test1,tseries.time,Ts)\n",
    "    start= 0.00\n",
    "    stop = None\n",
    "    ipt.plot(start,stop,\"Input\")\n",
    "    tx.plot(start,stop,\"fbsyn\")\n",
    "    tx0.plot(start,stop,\"ipsyn\")\n",
    "    plt.figure()\n",
    "    tx1.plot(start,stop,\"Spikes\")\n",
    "    n.print_props()"
   ]
  },
  {
   "cell_type": "markdown",
   "metadata": {},
   "source": []
  },
  {
   "cell_type": "code",
   "execution_count": null,
   "metadata": {},
   "outputs": [],
   "source": []
  },
  {
   "cell_type": "code",
   "execution_count": null,
   "metadata": {},
   "outputs": [],
   "source": []
  }
 ],
 "metadata": {
  "kernelspec": {
   "display_name": "Python 3",
   "language": "python",
   "name": "python3"
  },
  "language_info": {
   "codemirror_mode": {
    "name": "ipython",
    "version": 3
   },
   "file_extension": ".py",
   "mimetype": "text/x-python",
   "name": "python",
   "nbconvert_exporter": "python",
   "pygments_lexer": "ipython3",
   "version": "3.6.6"
  }
 },
 "nbformat": 4,
 "nbformat_minor": 2
}
