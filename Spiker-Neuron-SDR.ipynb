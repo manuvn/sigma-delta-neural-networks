{
 "cells": [
  {
   "cell_type": "markdown",
   "metadata": {},
   "source": [
    "# Single neuron TB"
   ]
  },
  {
   "cell_type": "code",
   "execution_count": 1,
   "metadata": {
    "scrolled": true
   },
   "outputs": [],
   "source": [
    "%matplotlib inline\n",
    "import numpy as np\n",
    "import matplotlib.pyplot as plt\n",
    "import importlib\n",
    "from spiker import *\n",
    "from IPython.display import clear_output, Image, display, HTML\n",
    "import seaborn as sns\n",
    "import matplotlib.patches as mpatches\n",
    "\n",
    "sns.set_style('whitegrid')\n",
    "# Test bench for Neuron\n",
    "# Ip -> Neuron -> Syn -> Vsyn\n",
    "Ts = 1e-6\n",
    "transient_time = 0.1\n",
    "def run_test(freq=5, amp=1e-9, periods = 1, plt = False, verbose=False):\n",
    "    tstart = 0\n",
    "    tstop = transient_time + periods/freq\n",
    "    print(f'Running test with freq = {freq} and amplitude = {amp} for time {tstop}s' )\n",
    "    \n",
    "    tseries = gen_time(tstart,tstop,Ts)\n",
    "    ipt     = gen_sine(tseries, freq, amp=amp)\n",
    "    \n",
    "    nspikes = np.zeros_like(tseries.time)\n",
    "    nfbsyn  = np.zeros_like(tseries.time)\n",
    "\n",
    "    ipt.set_time(0.)\n",
    "    n = Neuronv2(1,Ts=Ts,\n",
    "        ipItau   = 10e-12,\n",
    "        ipIth    = 10e-12,\n",
    "        fbItau   = 10e-12,\n",
    "        fbIth    = 10e-12,\n",
    "        fbdelta  = 0.01e-9,\n",
    "        eItau    = 10e-12,\n",
    "        eIth     = 100000e-12,\n",
    "        thresh   = 0,  \n",
    "        Kappa    = 0.7, \n",
    "        Temp     = 300,\n",
    "        ipCmem   = 2e-12,\n",
    "        fbCmem   = 2e-12,\n",
    "        eCmem    = 2e-12,\n",
    "        Tp       = Ts,\n",
    "        mode     = 'sd',\n",
    "        refr     = 1e-3,\n",
    "        mismatch = 0)\n",
    "    \n",
    "    for index in range(len(tseries.time)):\n",
    "        ip = ipt.value[index]\n",
    "        nop = n.compute(ip)\n",
    "        nspikes[index] = n.states[0]\n",
    "        nfbsyn[index] = n.frecon[0]\n",
    "    if plt:\n",
    "        nspikes_t = Tseries(nspikes,tseries.time,Ts)    \n",
    "        nfbsyn_t  = Tseries(nfbsyn,tseries.time,Ts)  \n",
    "        nfbsyn_t.plot(0,tstop)\n",
    "        ipt.plot(0,tstop)\n",
    "    if verbose:\n",
    "        n.print_props()\n",
    "    return ipt.value, nfbsyn, n.spike_count/tstop\n",
    "\n",
    "def compute_sdr(ip, Ts, plt = False, verbose=False):\n",
    "    # Measuring the signal quality\n",
    "    ip_fft = np.fft.fft(ip)\n",
    "    N = len(ip_fft)\n",
    "    ip_fft_psd = 2*np.abs(ip_fft)**2\n",
    "\n",
    "    freqs = np.linspace(0.0, int(1.0/(2.0*Ts)), int(N/2))\n",
    "    if plt:\n",
    "        plt.semilogx(freqs, 10*np.log10(ip_fft_psd[:N//2]))\n",
    "    max_id = 1+np.argmax(ip_fft_psd[1:N//2])\n",
    "    peak_freq = freqs[max_id] \n",
    "    total_energy = np.sum(ip_fft_psd[1:N//2]) # discount the DC component\n",
    "    distortion_energy = total_energy - ip_fft_psd[max_id]\n",
    "    sdr = (ip_fft_psd[max_id])/distortion_energy\n",
    "    sdr_db = 10*np.log10(sdr)\n",
    "    if verbose:\n",
    "        print(f'Peak frequency is {1+peak_freq} Hz')\n",
    "        print(f'SDR in dB is {10*np.log10(sdr)}')\n",
    "        print('='*89)\n",
    "    return sdr_db"
   ]
  },
  {
   "cell_type": "raw",
   "metadata": {},
   "source": [
    "run_test(3, 1e-9, verbose=True)"
   ]
  },
  {
   "cell_type": "code",
   "execution_count": 8,
   "metadata": {
    "scrolled": true
   },
   "outputs": [
    {
     "name": "stdout",
     "output_type": "stream",
     "text": [
      "Running test with freq = 1.0 and amplitude = 5e-10 for time 1.1s\n",
      "Peak frequency is 2.0000020000039997 Hz\n",
      "SDR in dB is 28.277319482110958\n",
      "=========================================================================================\n",
      "Running test with freq = 1.8329807108324359 and amplitude = 5e-10 for time 0.6455594781168519s\n",
      "Peak frequency is 2.8329923967475383 Hz\n",
      "SDR in dB is 28.710555796907688\n",
      "=========================================================================================\n",
      "Running test with freq = 3.3598182862837818 and amplitude = 5e-10 for time 0.39763514416313184s\n",
      "Peak frequency is 4.359853779163531 Hz\n",
      "SDR in dB is 28.034793121282505\n",
      "=========================================================================================\n",
      "Running test with freq = 6.158482110660264 and amplitude = 5e-10 for time 0.2623776739188722s\n",
      "Peak frequency is 7.158621454173698 Hz\n",
      "SDR in dB is 29.718110903648455\n",
      "=========================================================================================\n",
      "Running test with freq = 11.28837891684689 and amplitude = 5e-10 for time 0.1885866790410083s\n",
      "Peak frequency is 12.288720310665584 Hz\n",
      "SDR in dB is 29.34774861756146\n",
      "=========================================================================================\n",
      "Running test with freq = 20.69138081114789 and amplitude = 5e-10 for time 0.14832930238571757s\n",
      "Peak frequency is 21.692794768861482 Hz\n",
      "SDR in dB is 26.491025312875642\n",
      "=========================================================================================\n",
      "Running test with freq = 37.926901907322495 and amplitude = 5e-10 for time 0.1263665089873036s\n",
      "Peak frequency is 38.93051130329237 Hz\n",
      "SDR in dB is 24.032291001831943\n",
      "=========================================================================================\n",
      "Running test with freq = 69.51927961775606 and amplitude = 5e-10 for time 0.11438449888287663s\n",
      "Peak frequency is 70.53135864274788 Hz\n",
      "SDR in dB is 18.00801577555841\n",
      "=========================================================================================\n",
      "Running test with freq = 127.42749857031335 and amplitude = 5e-10 for time 0.10784759970351462s\n",
      "Peak frequency is 128.48597654258032 Hz\n",
      "SDR in dB is 10.177389629751643\n",
      "=========================================================================================\n",
      "Running test with freq = 233.57214690901213 and amplitude = 5e-10 for time 0.1042813323987194s\n",
      "Peak frequency is 234.75409069658718 Hz\n",
      "SDR in dB is 5.461916592011229\n",
      "=========================================================================================\n",
      "Running test with freq = 428.1332398719391 and amplitude = 5e-10 for time 0.10233572146909013s\n",
      "Peak frequency is 429.8164665523156 Hz\n",
      "SDR in dB is -0.19416994692674983\n",
      "=========================================================================================\n",
      "Running test with freq = 784.7599703514607 and amplitude = 5e-10 for time 0.10127427498570314s\n",
      "Peak frequency is 787.1635220125786 Hz\n",
      "SDR in dB is -2.5460551356040884\n",
      "=========================================================================================\n",
      "Running test with freq = 1438.449888287663 and amplitude = 5e-10 for time 0.10069519279617757s\n",
      "Peak frequency is 1446.086705202312 Hz\n",
      "SDR in dB is 1.7084160451885586\n",
      "=========================================================================================\n",
      "Running test with freq = 2636.650898730358 and amplitude = 5e-10 for time 0.10037926901907324s\n",
      "Peak frequency is 2660.574468085106 Hz\n",
      "SDR in dB is 5.221069343973198\n",
      "=========================================================================================\n",
      "Running test with freq = 4832.930238571752 and amplitude = 5e-10 for time 0.10020691380811149s\n",
      "Peak frequency is 4902.9607843137255 Hz\n",
      "SDR in dB is 1.906675338441427\n",
      "=========================================================================================\n",
      "Running test with freq = 8858.667904100823 and amplitude = 5e-10 for time 0.10011288378916848s\n",
      "Peak frequency is 9091.90909090909 Hz\n",
      "SDR in dB is 1.9112655699540597\n",
      "=========================================================================================\n",
      "Running test with freq = 16237.76739188721 and amplitude = 5e-10 for time 0.10006158482110661s\n",
      "Peak frequency is 17242.379310344826 Hz\n",
      "SDR in dB is 1.935570165069422\n",
      "=========================================================================================\n",
      "Running test with freq = 29763.51441631319 and amplitude = 5e-10 for time 0.10003359818286284s\n",
      "Peak frequency is 33334.333333333336 Hz\n",
      "SDR in dB is 5.242812172109593\n",
      "=========================================================================================\n",
      "Running test with freq = 54555.947811685146 and amplitude = 5e-10 for time 0.10001832980710833s\n",
      "Peak frequency is 62501.0 Hz\n",
      "SDR in dB is 2.159558282340936\n",
      "=========================================================================================\n",
      "Running test with freq = 100000.0 and amplitude = 5e-10 for time 0.10001s\n",
      "Peak frequency is 125001.0 Hz\n",
      "SDR in dB is 2.774779020378364\n",
      "=========================================================================================\n"
     ]
    }
   ],
   "source": [
    "freqs = np.logspace(start=0, stop=5, num=20)\n",
    "sdrs_f = np.zeros_like(freqs)\n",
    "frates = np.zeros_like(freqs)\n",
    "amp = 0.5e-9\n",
    "for idx in range(len(freqs)):\n",
    "    ip, nfb, frates[idx] = run_test(freq=freqs[idx], amp=amp, plt=False)\n",
    "    sdrs_f[idx] = compute_sdr(nfb[int(transient_time/Ts):], Ts, verbose=True)"
   ]
  },
  {
   "cell_type": "code",
   "execution_count": 9,
   "metadata": {},
   "outputs": [
    {
     "data": {
      "text/plain": [
       "<matplotlib.legend.Legend at 0x13984cb6a90>"
      ]
     },
     "execution_count": 9,
     "metadata": {},
     "output_type": "execute_result"
    },
    {
     "data": {
      "image/png": "[encoded data removed]",
      "text/plain": [
       "<Figure size 432x288 with 2 Axes>"
      ]
     },
     "metadata": {},
     "output_type": "display_data"
    }
   ],
   "source": [
    "fig, ax1 = plt.subplots()\n",
    "\n",
    "ax1.semilogx(freqs, sdrs_f, 'g' ,label='SDR')\n",
    "ax1.set_xlabel('Frequency')\n",
    "ax1.set_ylabel('SDR')\n",
    "\n",
    "ax2 = ax1.twinx()  # instantiate a second axes that shares the same x-axis\n",
    "ax2.semilogx(freqs, frates/1e3, 'r', label='Firing rate')\n",
    "ax2.set_ylabel('Firing rate (in KHz)')\n",
    "\n",
    "title = f'Input Amplitude = {amp*1e9}nA'\n",
    "patch1 = mpatches.Patch(color='g', label='SDR')\n",
    "patch2 = mpatches.Patch(color='r', label='Firing rate')\n",
    "fig.tight_layout() # Or equivalently,  \"plt.tight_layout()\"\n",
    "fig.legend(handles=[patch1, patch2], title=title,loc='upper right',bbox_to_anchor=(0.85, 0.9), fancybox=True, shadow=True)\n",
    "# plt.savefig('img/Nchar_freq_sweep.png',dpi=300)"
   ]
  },
  {
   "cell_type": "code",
   "execution_count": 10,
   "metadata": {
    "scrolled": true
   },
   "outputs": [
    {
     "name": "stdout",
     "output_type": "stream",
     "text": [
      "Running test with freq = 10 and amplitude = 1e-12 for time 0.2s\n",
      "Peak frequency is 51.0010000200004 Hz\n",
      "SDR in dB is -4.174512808740857\n",
      "=========================================================================================\n",
      "Running test with freq = 10 and amplitude = 2.06913808111479e-12 for time 0.2s\n",
      "Peak frequency is 101.0020000400008 Hz\n",
      "SDR in dB is -7.040290327120191\n",
      "=========================================================================================\n",
      "Running test with freq = 10 and amplitude = 4.281332398719396e-12 for time 0.2s\n",
      "Peak frequency is 11.00020000400008 Hz\n",
      "SDR in dB is -1.0017520566886549\n",
      "=========================================================================================\n",
      "Running test with freq = 10 and amplitude = 8.858667904100833e-12 for time 0.2s\n",
      "Peak frequency is 11.00020000400008 Hz\n",
      "SDR in dB is 5.792979420577126\n",
      "=========================================================================================\n",
      "Running test with freq = 10 and amplitude = 1.8329807108324375e-11 for time 0.2s\n",
      "Peak frequency is 11.00020000400008 Hz\n",
      "SDR in dB is 12.154063993269162\n",
      "=========================================================================================\n",
      "Running test with freq = 10 and amplitude = 3.7926901907322536e-11 for time 0.2s\n",
      "Peak frequency is 11.00020000400008 Hz\n",
      "SDR in dB is 18.486436186927083\n",
      "=========================================================================================\n",
      "Running test with freq = 10 and amplitude = 7.847599703514623e-11 for time 0.2s\n",
      "Peak frequency is 11.00020000400008 Hz\n",
      "SDR in dB is 18.467284580475432\n",
      "=========================================================================================\n",
      "Running test with freq = 10 and amplitude = 1.6237767391887175e-10 for time 0.2s\n",
      "Peak frequency is 11.00020000400008 Hz\n",
      "SDR in dB is 23.5751107230721\n",
      "=========================================================================================\n",
      "Running test with freq = 10 and amplitude = 3.3598182862837877e-10 for time 0.2s\n",
      "Peak frequency is 11.00020000400008 Hz\n",
      "SDR in dB is 25.748930945448837\n",
      "=========================================================================================\n",
      "Running test with freq = 10 and amplitude = 6.951927961775591e-10 for time 0.2s\n",
      "Peak frequency is 11.00020000400008 Hz\n",
      "SDR in dB is 28.740284939723402\n",
      "=========================================================================================\n",
      "Running test with freq = 10 and amplitude = 1.4384498882876659e-09 for time 0.2s\n",
      "Peak frequency is 11.00020000400008 Hz\n",
      "SDR in dB is 31.768142943277283\n",
      "=========================================================================================\n",
      "Running test with freq = 10 and amplitude = 2.9763514416313133e-09 for time 0.2s\n",
      "Peak frequency is 11.00020000400008 Hz\n",
      "SDR in dB is 35.58990144155027\n",
      "=========================================================================================\n",
      "Running test with freq = 10 and amplitude = 6.158482110660254e-09 for time 0.2s\n",
      "Peak frequency is 11.00020000400008 Hz\n",
      "SDR in dB is 39.853376765037154\n",
      "=========================================================================================\n",
      "Running test with freq = 10 and amplitude = 1.274274985703132e-08 for time 0.2s\n",
      "Peak frequency is 11.00020000400008 Hz\n",
      "SDR in dB is 45.178247974145236\n",
      "=========================================================================================\n",
      "Running test with freq = 10 and amplitude = 2.6366508987303555e-08 for time 0.2s\n",
      "Peak frequency is 11.00020000400008 Hz\n",
      "SDR in dB is 48.120993406855405\n",
      "=========================================================================================\n",
      "Running test with freq = 10 and amplitude = 5.4555947811685146e-08 for time 0.2s\n",
      "Peak frequency is 11.00020000400008 Hz\n",
      "SDR in dB is 51.30144016558346\n",
      "=========================================================================================\n",
      "Running test with freq = 10 and amplitude = 1.1288378916846883e-07 for time 0.2s\n",
      "Peak frequency is 11.00020000400008 Hz\n",
      "SDR in dB is 49.02452364531178\n",
      "=========================================================================================\n",
      "Running test with freq = 10 and amplitude = 2.3357214690901212e-07 for time 0.2s\n",
      "Peak frequency is 11.00020000400008 Hz\n",
      "SDR in dB is 17.5377664515752\n",
      "=========================================================================================\n",
      "Running test with freq = 10 and amplitude = 4.832930238571752e-07 for time 0.2s\n",
      "Peak frequency is 11.00020000400008 Hz\n",
      "SDR in dB is 6.147582026947516\n",
      "=========================================================================================\n",
      "Running test with freq = 10 and amplitude = 1e-06 for time 0.2s\n",
      "Peak frequency is 11.00020000400008 Hz\n",
      "SDR in dB is 3.2923959518258483\n",
      "=========================================================================================\n"
     ]
    }
   ],
   "source": [
    "amps = np.logspace(start=-12, stop=-6, num=20)\n",
    "sdrs_amp = np.zeros_like(freqs)\n",
    "freq=10\n",
    "for idx in range(len(amps)):\n",
    "    ip, nfb, frates[idx] = run_test(freq=freq, amp=amps[idx], plt=False)\n",
    "    sdrs_amp[idx] = compute_sdr(nfb[int(transient_time/Ts):], Ts, verbose=True)"
   ]
  },
  {
   "cell_type": "code",
   "execution_count": 11,
   "metadata": {},
   "outputs": [
    {
     "data": {
      "text/plain": [
       "<matplotlib.legend.Legend at 0x13984f09c18>"
      ]
     },
     "execution_count": 11,
     "metadata": {},
     "output_type": "execute_result"
    },
    {
     "data": {
      "image/png": "[encoded data removed]",
      "text/plain": [
       "<Figure size 432x288 with 2 Axes>"
      ]
     },
     "metadata": {},
     "output_type": "display_data"
    }
   ],
   "source": [
    "fig, ax1 = plt.subplots()\n",
    "\n",
    "ax1.semilogx(amps, sdrs_amp,'g')\n",
    "ax1.set_xlabel('Amplitude (in A)')\n",
    "ax1.set_ylabel('SDR')\n",
    "\n",
    "ax2 = ax1.twinx()  # instantiate a second axes that shares the same x-axis\n",
    "ax2.semilogx(amps, frates/1e3, 'r')\n",
    "ax2.set_ylabel('Firing rate (in KHz)')    \n",
    "\n",
    "plt.xlabel('Amplitude')\n",
    "\n",
    "title = f'Input Frequency = {freq}Hz'\n",
    "patch1 = mpatches.Patch(color='g', label='SDR')\n",
    "patch2 = mpatches.Patch(color='r', label='Firing rate')\n",
    "fig.tight_layout() # Or equivalently,  \"plt.tight_layout()\"\n",
    "fig.legend(handles=[patch1, patch2], title=title,loc='upper left',bbox_to_anchor=(0.15, 0.9), fancybox=True, shadow=True)\n",
    "\n",
    "# plt.savefig('img/Nchar_amp_sweep.png',dpi=300)"
   ]
  },
  {
   "cell_type": "code",
   "execution_count": 3,
   "metadata": {},
   "outputs": [
    {
     "data": {
      "text/plain": [
       "200.0"
      ]
     },
     "execution_count": 3,
     "metadata": {},
     "output_type": "execute_result"
    }
   ],
   "source": [
    "1/(2e-12 * 25e-3/ 10e-12)"
   ]
  },
  {
   "cell_type": "code",
   "execution_count": null,
   "metadata": {},
   "outputs": [],
   "source": []
  }
 ],
 "metadata": {
  "kernelspec": {
   "display_name": "Python 3",
   "language": "python",
   "name": "python3"
  },
  "language_info": {
   "codemirror_mode": {
    "name": "ipython",
    "version": 3
   },
   "file_extension": ".py",
   "mimetype": "text/x-python",
   "name": "python",
   "nbconvert_exporter": "python",
   "pygments_lexer": "ipython3",
   "version": "3.6.7"
  }
 },
 "nbformat": 4,
 "nbformat_minor": 2
}
