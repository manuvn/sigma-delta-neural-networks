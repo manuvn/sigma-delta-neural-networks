{
 "cells": [
  {
   "cell_type": "markdown",
   "metadata": {},
   "source": [
    "# Single neuron TB"
   ]
  },
  {
   "cell_type": "code",
   "execution_count": 5,
   "metadata": {
    "scrolled": true
   },
   "outputs": [],
   "source": [
    "%matplotlib inline\n",
    "import numpy as np\n",
    "import matplotlib.pyplot as plt\n",
    "import importlib\n",
    "from spiker import *\n",
    "from IPython.display import clear_output, Image, display, HTML\n",
    "import seaborn as sns\n",
    "import matplotlib.patches as mpatches\n",
    "\n",
    "sns.set_style('whitegrid')\n",
    "# Test bench for Neuron\n",
    "# Ip -> Neuron -> Syn -> Vsyn\n",
    "Ts = 1e-6\n",
    "transient_time = 0.1\n",
    "def run_test(freq=5, amp=1e-9, periods = 1, plt = False, verbose=False):\n",
    "    tstart = 0\n",
    "    tstop = transient_time + periods/freq\n",
    "    print(f'Running test with freq = {freq} and amplitude = {amp} for time {tstop}s' )\n",
    "    \n",
    "    tseries = gen_time(tstart,tstop,Ts)\n",
    "    ipt     = gen_sine(tseries, freq, amp=amp)\n",
    "    \n",
    "    nspikes = np.zeros_like(tseries.time)\n",
    "    nfbsyn  = np.zeros_like(tseries.time)\n",
    "    nesyn   = np.zeros_like(tseries.time)\n",
    "    nipsyn  = np.zeros_like(tseries.time)\n",
    "    \n",
    "    ipt.set_time(0.)\n",
    "    n = Neuronv2(1,Ts=Ts,\n",
    "        ipItau   = 10e-12,\n",
    "        ipIth    = 10e-12,\n",
    "        fbItau   = 10e-12,\n",
    "        fbIth    = 10e-12,\n",
    "        fbdelta  = 0.1e-9,\n",
    "        eItau    = 10e-12,\n",
    "        eIth     = 100000e-12,\n",
    "        thresh   = 0,  \n",
    "        Kappa    = 0.7, \n",
    "        Temp     = 300,\n",
    "        ipCmem   = 2e-12,\n",
    "        fbCmem   = 2e-12,\n",
    "        eCmem    = 2e-12,\n",
    "        Tp       = Ts,\n",
    "        mode     = 'sd',\n",
    "        refr     = 1e-3,\n",
    "        mismatch = 0)\n",
    "    \n",
    "    for index in range(len(tseries.time)):\n",
    "        ip = ipt.value[index]\n",
    "        nop = n.compute(ip)\n",
    "        nspikes[index] = n.states[0]\n",
    "        nfbsyn[index] = n.frecon[0]\n",
    "        nesyn[index] = n.esyn.states[0]\n",
    "        nipsyn[index] = n.irecon[0]\n",
    "    if plt:\n",
    "        nspikes_t = Tseries(nspikes,tseries.time,Ts)    \n",
    "        nfbsyn_t  = Tseries(nfbsyn,tseries.time,Ts)  \n",
    "        nfbsyn_t.plot(0,tstop)\n",
    "        ipt.plot(0,tstop)\n",
    "    if verbose:\n",
    "        n.print_props()\n",
    "    return ipt.value, nfbsyn, n.spike_count/tstop, nesyn, nipsyn, nspikes\n",
    "\n",
    "def compute_sdr(ip, Ts, plt = False, verbose=False):\n",
    "    # Measuring the signal quality\n",
    "    ip_fft = np.fft.fft(ip)\n",
    "    N = len(ip_fft)\n",
    "    ip_fft_psd = 2*np.abs(ip_fft)**2\n",
    "\n",
    "    freqs = np.linspace(0.0, int(1.0/(2.0*Ts)), int(N/2))\n",
    "    if plt:\n",
    "        plt.semilogx(freqs, 10*np.log10(ip_fft_psd[:N//2]))\n",
    "    max_id = 1+np.argmax(ip_fft_psd[1:N//2])\n",
    "    peak_freq = freqs[max_id] \n",
    "    total_energy = np.sum(ip_fft_psd[1:N//2]) # discount the DC component\n",
    "    distortion_energy = total_energy - ip_fft_psd[max_id]\n",
    "    sdr = (ip_fft_psd[max_id])/distortion_energy\n",
    "    sdr_db = 10*np.log10(sdr)\n",
    "    if verbose:\n",
    "        print(f'Peak frequency is {1+peak_freq} Hz')\n",
    "        print(f'SDR in dB is {10*np.log10(sdr)}')\n",
    "        print('='*89)\n",
    "    return sdr_db"
   ]
  },
  {
   "cell_type": "code",
   "execution_count": 6,
   "metadata": {
    "scrolled": true
   },
   "outputs": [
    {
     "name": "stdout",
     "output_type": "stream",
     "text": [
      "Running test with freq = 10 and amplitude = 1e-09 for time 0.2s\n",
      "------------------\n",
      "\n",
      "Neuron properties\n",
      "\n",
      "Delta =  [0.]\n",
      "Step time =  1e-06\n",
      "------------------\n",
      "\n",
      "Input DPI properties\n",
      "\n",
      "Step time =  1e-06\n",
      "Time constant =  0.007386283149874306\n",
      "Pole freq =  135.38609063707736\n",
      "Gain =  1.0\n",
      "------------------\n",
      "\n",
      "Feedback DPI properties\n",
      "\n",
      "Step time =  1e-06\n",
      "Time constant =  0.007386283149874306\n",
      "Pole freq =  135.38609063707736\n",
      "Gain =  1.0\n",
      "Delta =  1e-10\n",
      "Spike Width =  1\n",
      "------------------\n",
      "\n",
      "Error DPI properties\n",
      "\n",
      "Step time =  1e-06\n",
      "Time constant =  0.007386283149874306\n",
      "Pole freq =  135.38609063707736\n",
      "Gain =  10000.0\n",
      "------------------\n",
      "\n",
      "Number of spikes = 541.0\n",
      "\n",
      "------------------\n",
      "\n"
     ]
    }
   ],
   "source": [
    "ip, nfb, frate, ne, nip, ns = run_test(10, 1e-9, verbose=True)"
   ]
  },
  {
   "cell_type": "code",
   "execution_count": 14,
   "metadata": {},
   "outputs": [
    {
     "data": {
      "text/plain": [
       "<matplotlib.legend.Legend at 0x18d01e32e80>"
      ]
     },
     "execution_count": 14,
     "metadata": {},
     "output_type": "execute_result"
    },
    {
     "data": {
      "image/png": "[encoded data removed]",
      "text/plain": [
       "<Figure size 432x288 with 1 Axes>"
      ]
     },
     "metadata": {},
     "output_type": "display_data"
    }
   ],
   "source": [
    "start_idx = 0#-100000\n",
    "stop_idx = -1#-9000\n",
    "plt.plot(ip[start_idx:stop_idx], label='Input')\n",
    "plt.plot(nip[start_idx:stop_idx], label='Ip DPI')\n",
    "plt.plot(nfb[start_idx:stop_idx], label='Feedback')\n",
    "# plt.plot(ne[start_idx:stop_idx], label='Error DPI')\n",
    "plt.legend()"
   ]
  },
  {
   "cell_type": "code",
   "execution_count": 13,
   "metadata": {},
   "outputs": [
    {
     "data": {
      "text/plain": [
       "<matplotlib.legend.Legend at 0x18d019466a0>"
      ]
     },
     "execution_count": 13,
     "metadata": {},
     "output_type": "execute_result"
    },
    {
     "data": {
      "image/png": "[encoded data removed]",
      "text/plain": [
       "<Figure size 432x288 with 1 Axes>"
      ]
     },
     "metadata": {},
     "output_type": "display_data"
    }
   ],
   "source": [
    "start_idx = 0#-10000\n",
    "stop_idx = -1#1000\n",
    "plt.plot(ns[start_idx:stop_idx], label='Spikes')\n",
    "# plt.plot(ne[start_idx:stop_idx], label='Error DPI')\n",
    "plt.legend()"
   ]
  },
  {
   "cell_type": "code",
   "execution_count": null,
   "metadata": {},
   "outputs": [],
   "source": []
  }
 ],
 "metadata": {
  "kernelspec": {
   "display_name": "Python 3",
   "language": "python",
   "name": "python3"
  },
  "language_info": {
   "codemirror_mode": {
    "name": "ipython",
    "version": 3
   },
   "file_extension": ".py",
   "mimetype": "text/x-python",
   "name": "python",
   "nbconvert_exporter": "python",
   "pygments_lexer": "ipython3",
   "version": "3.6.7"
  }
 },
 "nbformat": 4,
 "nbformat_minor": 2
}
