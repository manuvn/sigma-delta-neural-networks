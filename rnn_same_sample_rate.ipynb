{
 "cells": [
  {
   "cell_type": "code",
   "execution_count": 1,
   "metadata": {},
   "outputs": [],
   "source": [
    "import pickle\n",
    "import pandas as pd\n",
    "import numpy as np\n",
    "from spiker import *\n",
    "import matplotlib.pyplot as plt\n",
    "from rnn import rnn"
   ]
  },
  {
   "cell_type": "code",
   "execution_count": 9,
   "metadata": {
    "scrolled": false
   },
   "outputs": [],
   "source": [
    "# https://www.mathworks.com/help/ident/ref/goodnessoffit.html\n",
    "def goodness_of_fit(ann_states, snn_states):\n",
    "    nmse_layers = []\n",
    "    epsilon = 1e-14\n",
    "    layers = range(len(ann_states))\n",
    "    transient = 0\n",
    "    for idx in layers: # layer idx\n",
    "        dims = ann_states[idx].shape[0]\n",
    "        nmse = []\n",
    "        for jdx in range(dims):\n",
    "            ref = ann_states[idx][jdx,transient:]\n",
    "            y = snn_states[idx][jdx,transient:]\n",
    "            diff = ref - y\n",
    "            num = np.sum(diff*diff)\n",
    "            ref_ch_mean = np.mean(ref)\n",
    "            ref_diff = ref - ref_ch_mean #+ epsilon\n",
    "            den = np.sum(ref_diff*ref_diff)\n",
    "            if (den < epsilon) | (num < epsilon):\n",
    "                if num < den:\n",
    "                    nmse += [1]\n",
    "                elif den > 0: # ignore for den=0\n",
    "                    nmse += [1 - num/den]\n",
    "            else:\n",
    "                nmse += [1 - (num/den)]\n",
    "        nmse_layer = np.mean(nmse)\n",
    "        print(f'MSE in layer {idx} is {nmse_layer:.3f}')\n",
    "        nmse_layers += [nmse_layer]\n",
    "    return nmse_layers\n",
    "# goodness_of_fit(ann_states, snn_states)"
   ]
  },
  {
   "cell_type": "code",
   "execution_count": 3,
   "metadata": {
    "scrolled": false
   },
   "outputs": [],
   "source": [
    "def plot_activations(net, ann_states, rnn_states, label='', plot=True, axis='off'):\n",
    "    plt.rcParams['lines.linewidth'] = 1.2\n",
    "    import matplotlib.patches as mpatches\n",
    "    # Plotting and visualization\n",
    "    print('Pole frequency = {0:.3f} Hz'.format(1/net.tau))\n",
    "    goodness = goodness_of_fit(ann_states, snn_states)\n",
    "    if plot:\n",
    "        for idx in range(len(ann_states)): # layer idx\n",
    "            dims = ann_states[idx].shape[0]\n",
    "            if dims >= 3:\n",
    "                cols = 3\n",
    "            else:\n",
    "                cols=dims\n",
    "            rows = int(np.ceil(dims/cols))\n",
    "            fig, axs = plt.subplots(rows,cols)\n",
    "            for jdx in range(ann_states[idx].shape[0]): # dim idx\n",
    "                ax = plt.subplot(rows,cols,jdx+1)\n",
    "                plt.plot(tsteps, ann_states[idx][jdx,:], color='r', linestyle='-.', label=f'ANN - Layer {idx}')\n",
    "                plt.plot(tsteps, snn_states[idx][jdx,:], color='g', alpha=0.7, label=f'SNN - Layer {idx}')\n",
    "                plt.axis(axis)\n",
    "                plt.subplots_adjust(wspace=0, hspace=0)\n",
    "\n",
    "            label_ext = r' $c_{v_p} = $'+f'{mismatch}.'+f' NMSE = {goodness[idx]:.3f}.'\n",
    "\n",
    "            if idx == 0:\n",
    "                fig.suptitle(f'Input dense layer.'+label_ext, fontsize=12)\n",
    "            elif idx == len(ann_states)-1:\n",
    "                fig.suptitle(f'Output dense layer.'+label_ext, fontsize=12)\n",
    "            elif idx%2 == 1:\n",
    "                fig.suptitle(f'Recurrent layer {int(np.floor((idx+1)/2))}.'+label_ext, fontsize=12)\n",
    "            else:\n",
    "                fig.suptitle(f'Dense layer {int(np.floor((idx)/2))}.'+label_ext, fontsize=12)\n",
    "            patch1 = mpatches.Patch(color='r', label='ANN output')\n",
    "            patch2 = mpatches.Patch(color='g', label='SNN output')\n",
    "            fig.tight_layout() # Or equivalently,  \"plt.tight_layout()\"\n",
    "            fig.legend(handles=[patch1, patch2], loc='lower center', fancybox=True, shadow=True, fontsize=12, ncol=2)\n",
    "            plt.savefig(f'./img/ANN-RNN-Layer-{idx}-{label}.png', dpi=300)\n",
    "    t = 0\n",
    "    for N in net.neurons:\n",
    "        t += np.sum(N.spike_count)\n",
    "    print('Average spike rate = {0:.3f} KHz'. format(1e-3*t/(tsteps[-1]*op_dim+res_dim+ip_dim)))"
   ]
  },
  {
   "cell_type": "code",
   "execution_count": 4,
   "metadata": {},
   "outputs": [
    {
     "name": "stdout",
     "output_type": "stream",
     "text": [
      "Sequence length is 200000\n"
     ]
    },
    {
     "data": {
      "text/plain": [
       "(2, 200000)"
      ]
     },
     "execution_count": 4,
     "metadata": {},
     "output_type": "execute_result"
    },
    {
     "data": {
      "image/png": "[encoded data removed]",
      "text/plain": [
       "<Figure size 432x288 with 1 Axes>"
      ]
     },
     "metadata": {},
     "output_type": "display_data"
    }
   ],
   "source": [
    "# Generate simulation data\n",
    "def gen_data(nblocks,f1,f2, tstart=0, tstop=0.0001, Ts=1e-6,amp=1e-8):\n",
    "    \"\"\"\n",
    "    Generates a time series comprising nblocks of data\n",
    "    Each block is some combination of two sinusoids.\n",
    "    nblocks = number of blocks\n",
    "    tseries = Tseries object. Tseries is a datastructure \n",
    "        that makes it easy to deal with time-series data\n",
    "    amp = Scales the entire data block\n",
    "    \"\"\"\n",
    "    #np.random.seed(1)\n",
    "    tseries = gen_time(tstart,tstop,Ts) # obtain the time series input sample\n",
    "    time = tseries.time\n",
    "    ip = np.array([])\n",
    "    op = np.array([])\n",
    "    tblockend = int(len(time)/nblocks)\n",
    "    timeblock = time[:tblockend]\n",
    "    for index in range(nblocks):\n",
    "        if np.random.randint(2):\n",
    "            block = 2*np.sin(2*np.pi*timeblock*f2)+1*np.sin(2*np.pi*timeblock*f1)+2\n",
    "            ip = np.concatenate((ip,block))\n",
    "            op = np.concatenate((op,np.zeros_like(timeblock)))\n",
    "        else:\n",
    "            block = 1*np.sin(2*np.pi*timeblock*f2)+2*np.sin(2*np.pi*timeblock*f1)**2+1\n",
    "            ip = np.concatenate((ip,block))\n",
    "            op = np.concatenate((op,np.ones_like(timeblock)))\n",
    "    return amp*ip, amp*op, time\n",
    "# Some input\n",
    "ip1,_,tsteps = gen_data(nblocks=2, f1=4, f2=15, tstop=0.2)\n",
    "ip2,_,tsteps = gen_data(nblocks=1, f1=4, f2=15, tstop=0.2)\n",
    "\n",
    "inp1 = Tseries(ip1, tsteps)\n",
    "inp2 = Tseries(ip2, tsteps)\n",
    "inp1.plot(label = \"Input pattern\")\n",
    "inp2.plot(label = \"Input pattern\")\n",
    "ip = np.stack((ip1,ip2))\n",
    "print('Sequence length is {}'.format(ip.shape[1]))\n",
    "ip.shape# = (1,ip.shape[0])"
   ]
  },
  {
   "cell_type": "code",
   "execution_count": 5,
   "metadata": {},
   "outputs": [],
   "source": [
    "def run_rnns(ip, ip_dim, op_dim, res_dim, nrlayers, nparams):\n",
    "    net = rnn(nrlayers, ip_dim, res_dim, op_dim, nparams=nparams)\n",
    "    ann_states = net.rnn_forward(ip, mode='ann')\n",
    "    snn_states = net.rnn_forward(ip, mode='snn')\n",
    "    return ann_states, snn_states, net"
   ]
  },
  {
   "cell_type": "code",
   "execution_count": 6,
   "metadata": {},
   "outputs": [],
   "source": [
    "ip_dim = ip.shape[0]\n",
    "op_dim = 3\n",
    "res_dim = 9\n",
    "nrlayers = 2\n",
    "seq_len = ip.shape[1]\n",
    "nmse_avgs = {}\n",
    "nmse_stds = {}\n",
    "nruns = 100"
   ]
  },
  {
   "cell_type": "code",
   "execution_count": 10,
   "metadata": {
    "scrolled": false
   },
   "outputs": [
    {
     "name": "stdout",
     "output_type": "stream",
     "text": [
      "Pole frequency = 676.930 Hz\n",
      "MSE in layer 0 is 1.000\n",
      "MSE in layer 1 is 0.829\n",
      "MSE in layer 2 is 1.000\n",
      "MSE in layer 3 is 0.996\n",
      "MSE in layer 4 is 0.992\n",
      "Average spike rate = 57.346 KHz\n",
      "=========================================================================================\n",
      "Network parameters for the SNNs are as follows:\n",
      "nparams['ipItau'] = 5e-11\n",
      "nparams['ipIth'] = 5e-11\n",
      "nparams['fbItau'] = 5e-11\n",
      "nparams['fbIth'] = 5e-11\n",
      "nparams['fbIin'] = 4e-08\n",
      "nparams['eItau'] = 1e-11\n",
      "nparams['eIth'] = 5e-08\n",
      "nparams['thresh'] = 1e-10\n",
      "nparams['Ts'] = 1e-06\n",
      "nparams['Kappa'] = 0.7\n",
      "nparams['Temp'] = 300\n",
      "nparams['ipCmem'] = 2e-12\n",
      "nparams['fbCmem'] = 2e-12\n",
      "nparams['eCmem'] = 2e-12\n",
      "nparams['Tp'] = 1e-06\n",
      "nparams['mode'] = sd\n",
      "nparams['refr'] = 0\n",
      "nparams['mismatch'] = 0\n",
      "=========================================================================================\n"
     ]
    }
   ],
   "source": [
    "# High performance test case for plotting dynamics\n",
    "nparams = {}\n",
    "mismatch = 0\n",
    "nparams['mismatch'] = mismatch\n",
    "ann_states, snn_states, net = run_rnns(ip, ip_dim, op_dim, res_dim, nrlayers, nparams)\n",
    "plot_activations(net, ann_states, snn_states, label='perf', plot=False)\n",
    "net.list_nparams()"
   ]
  },
  {
   "cell_type": "code",
   "execution_count": null,
   "metadata": {
    "scrolled": false
   },
   "outputs": [
    {
     "name": "stdout",
     "output_type": "stream",
     "text": [
      "Pole frequency = 676.930 Hz\n",
      "MSE in layer 0 is 1.000\n",
      "MSE in layer 1 is 0.831\n",
      "MSE in layer 2 is 0.999\n",
      "MSE in layer 3 is 0.989\n",
      "MSE in layer 4 is 0.997\n"
     ]
    }
   ],
   "source": [
    "# Experimental test case\n",
    "nparams = {}\n",
    "nparams['fbIin'] = 1e-6\n",
    "nparams['Tp'] = 1e-6\n",
    "nparams['refr'] = 1e-5\n",
    "\n",
    "ann_states, snn_states, net = run_rnns(ip, ip_dim, op_dim, res_dim, nrlayers, nparams)\n",
    "plot_activations(net, ann_states, snn_states, label='expt', plot=True, axis='On')\n",
    "net.list_nparams()"
   ]
  },
  {
   "cell_type": "code",
   "execution_count": null,
   "metadata": {},
   "outputs": [],
   "source": []
  }
 ],
 "metadata": {
  "kernelspec": {
   "display_name": "Python 3",
   "language": "python",
   "name": "python3"
  },
  "language_info": {
   "codemirror_mode": {
    "name": "ipython",
    "version": 3
   },
   "file_extension": ".py",
   "mimetype": "text/x-python",
   "name": "python",
   "nbconvert_exporter": "python",
   "pygments_lexer": "ipython3",
   "version": "3.6.7"
  }
 },
 "nbformat": 4,
 "nbformat_minor": 2
}
